{
 "cells": [
  {
   "cell_type": "code",
   "execution_count": 1,
   "id": "sixth-athletics",
   "metadata": {
    "ExecuteTime": {
     "end_time": "2021-04-05T12:43:17.738196Z",
     "start_time": "2021-04-05T12:43:16.931043Z"
    }
   },
   "outputs": [],
   "source": [
    "%matplotlib inline\n",
    "%load_ext blackcellmagic\n",
    "%load_ext autoreload\n",
    "%autoreload 2"
   ]
  },
  {
   "cell_type": "markdown",
   "id": "legislative-celebrity",
   "metadata": {},
   "source": [
    "# staker payout playground"
   ]
  },
  {
   "cell_type": "code",
   "execution_count": 2,
   "id": "unnecessary-removal",
   "metadata": {
    "ExecuteTime": {
     "end_time": "2021-04-05T12:43:18.652279Z",
     "start_time": "2021-04-05T12:43:17.740134Z"
    }
   },
   "outputs": [],
   "source": [
    "import matplotlib.pyplot as plt\n",
    "import seaborn as sns\n",
    "\n",
    "sns.set_style(\"whitegrid\")\n",
    "sns.set(rc={'figure.figsize':(10, 8)})"
   ]
  },
  {
   "cell_type": "code",
   "execution_count": 3,
   "id": "combined-earthquake",
   "metadata": {
    "ExecuteTime": {
     "end_time": "2021-04-05T12:43:18.687073Z",
     "start_time": "2021-04-05T12:43:18.655329Z"
    }
   },
   "outputs": [],
   "source": [
    "import pandas as pd\n",
    "import numpy as np\n",
    "from scipy.stats import binom\n",
    "pd.options.mode.chained_assignment = None \n",
    "\n",
    "import json"
   ]
  },
  {
   "cell_type": "code",
   "execution_count": 4,
   "id": "yellow-lender",
   "metadata": {
    "ExecuteTime": {
     "end_time": "2021-04-05T12:43:18.873911Z",
     "start_time": "2021-04-05T12:43:18.688927Z"
    }
   },
   "outputs": [],
   "source": [
    "from MinaClient import Client\n",
    "from mina_schema import mina_explorer_schema\n",
    "from sgqlc.operation import Operation\n",
    "\n",
    "MINA_EXPLORER_ENDPOINT = \"https://graphql.minaexplorer.com/\"\n",
    "mina_explorer_client = Client(endpoint=MINA_EXPLORER_ENDPOINT)"
   ]
  },
  {
   "cell_type": "code",
   "execution_count": 5,
   "id": "breeding-determination",
   "metadata": {
    "ExecuteTime": {
     "end_time": "2021-04-05T12:43:22.226356Z",
     "start_time": "2021-04-05T12:43:22.195452Z"
    }
   },
   "outputs": [],
   "source": [
    "FOUNDATION_DELEGATION_ADDRESSES = [\n",
    "    \"B62qmsYXFNNE565yv7bEMPsPnpRCsMErf7J2v5jMnuKQ1jgwZS8BzXS\",\n",
    "    \"B62qn71s63yywMUCcFhP4iCata7HpgyrvmGjpKa1D9544vGW6FBZ6a1\",\n",
    "    \"B62qqEV4oP7w2jLQGckvZzdWjfdLKySKHJ3tNU5niRjpPD7beYumWTB\",\n",
    "    \"B62qmQAFPta1Q3c7wXHxXRKnE3uWyBYZCLb8frdHEgavi3BbBVkpeC1\"\n",
    "] \n",
    "\n",
    "STAKER_PUBLIC_KEY = \"B62qpge4uMq4Vv5Rvc8Gw9qSquUYd6xoW1pz7HQkMSHm6h1o7pvLPAN\" # mina explorer\n",
    "STAKER_FEE = 0.05 \n",
    "STAKER_FOUNDATION_FEE = 0.05 \n",
    "\n",
    "LEDGER_HASH = \"jx7buQVWFLsXTtzRgSxbYcT8EYLS8KCZbLrfDcJxMtyy4thw2Ee\""
   ]
  },
  {
   "cell_type": "code",
   "execution_count": null,
   "id": "located-shelter",
   "metadata": {},
   "outputs": [],
   "source": []
  },
  {
   "cell_type": "markdown",
   "id": "traditional-tamil",
   "metadata": {
    "ExecuteTime": {
     "end_time": "2021-04-05T10:24:41.822167Z",
     "start_time": "2021-04-05T10:24:41.794558Z"
    }
   },
   "source": [
    "## get stakers"
   ]
  },
  {
   "cell_type": "code",
   "execution_count": 6,
   "id": "weighted-final",
   "metadata": {
    "ExecuteTime": {
     "end_time": "2021-04-05T12:43:25.669373Z",
     "start_time": "2021-04-05T12:43:24.439802Z"
    }
   },
   "outputs": [
    {
     "name": "stdout",
     "output_type": "stream",
     "text": [
      "using: https://graphql.minaexplorer.com/\n"
     ]
    }
   ],
   "source": [
    "op = Operation(mina_explorer_schema.Query)\n",
    "\n",
    "query = mina_explorer_schema.StakeQueryInput(\n",
    "    delegate=STAKER_PUBLIC_KEY, ledger_hash=LEDGER_HASH\n",
    ")\n",
    "\n",
    "stakes = op.stakes(query=query, limit=1000)\n",
    "\n",
    "stakes.public_key()\n",
    "stakes.balance()\n",
    "stakes.timing.timed_weighting()\n",
    "\n",
    "res = mina_explorer_client.send_any_query(op)\n",
    "\n",
    "stakes_df = pd.json_normalize(res[\"data\"][\"stakes\"], sep=\"_\")"
   ]
  },
  {
   "cell_type": "code",
   "execution_count": 7,
   "id": "turned-smile",
   "metadata": {
    "ExecuteTime": {
     "end_time": "2021-04-05T12:43:27.113174Z",
     "start_time": "2021-04-05T12:43:27.080830Z"
    }
   },
   "outputs": [],
   "source": [
    "stakes_df[\"is_foundation_delegation\"] = stakes_df.public_key.isin(\n",
    "    FOUNDATION_DELEGATION_ADDRESSES\n",
    ")\n",
    "stakes_df.timing_timed_weighting.fillna(1, inplace=True)"
   ]
  },
  {
   "cell_type": "code",
   "execution_count": 8,
   "id": "talented-accommodation",
   "metadata": {
    "ExecuteTime": {
     "end_time": "2021-04-05T12:43:27.393486Z",
     "start_time": "2021-04-05T12:43:27.361218Z"
    }
   },
   "outputs": [
    {
     "name": "stdout",
     "output_type": "stream",
     "text": [
      "total_staking_balance: 10883171.794181166\n",
      "total_staking_balance_foundation: 3705636.6277516503\n",
      "delegates: 110\n"
     ]
    }
   ],
   "source": [
    "total_staking_balance_foundation = stakes_df[\n",
    "    stakes_df.is_foundation_delegation\n",
    "].balance.sum()\n",
    "\n",
    "total_staking_balance = stakes_df.balance.sum()\n",
    "\n",
    "print(f\"total_staking_balance: {total_staking_balance}\")\n",
    "print(f\"total_staking_balance_foundation: {total_staking_balance_foundation}\")\n",
    "print(f\"delegates: {stakes_df.shape[0]}\")"
   ]
  },
  {
   "cell_type": "code",
   "execution_count": null,
   "id": "nominated-nitrogen",
   "metadata": {},
   "outputs": [],
   "source": []
  },
  {
   "cell_type": "markdown",
   "id": "stylish-toronto",
   "metadata": {},
   "source": [
    "# get blocks"
   ]
  },
  {
   "cell_type": "code",
   "execution_count": 35,
   "id": "unlike-brand",
   "metadata": {
    "ExecuteTime": {
     "end_time": "2021-04-05T12:44:59.989257Z",
     "start_time": "2021-04-05T12:44:57.939809Z"
    }
   },
   "outputs": [
    {
     "name": "stdout",
     "output_type": "stream",
     "text": [
      "using: https://graphql.minaexplorer.com/\n"
     ]
    }
   ],
   "source": [
    "epoch = 0\n",
    "block_height_gte = 0\n",
    "block_height_lte = 5075\n",
    "\n",
    "consensus_state = mina_explorer_schema.BlockProtocolStateConsensusStateQueryInput(\n",
    "    epoch=epoch\n",
    ")\n",
    "protocol_state = mina_explorer_schema.BlockProtocolStateQueryInput(\n",
    "    consensus_state=consensus_state\n",
    ")\n",
    "\n",
    "op = Operation(mina_explorer_schema.Query)\n",
    "\n",
    "query = mina_explorer_schema.BlockQueryInput(\n",
    "    block_height_gte=block_height_gte,\n",
    "    block_height_lte=block_height_lte,\n",
    "    creator=STAKER_PUBLIC_KEY,\n",
    "    protocol_state=protocol_state,\n",
    ")\n",
    "\n",
    "blocks = op.blocks(\n",
    "    query=query,\n",
    "    limit=500,\n",
    ")\n",
    "\n",
    "blocks.transactions()\n",
    "blocks.block_height()\n",
    "blocks.canonical()\n",
    "blocks.tx_fees()\n",
    "blocks.snark_fees()\n",
    "blocks.state_hash()\n",
    "blocks.date_time()\n",
    "blocks.protocol_state.consensus_state.total_currency()\n",
    "    \n",
    "res = mina_explorer_client.send_any_query(op)\n",
    "\n",
    "blocks_df = pd.json_normalize(res['data']['blocks'], sep='_')\n"
   ]
  },
  {
   "cell_type": "code",
   "execution_count": 34,
   "id": "respective-serve",
   "metadata": {
    "ExecuteTime": {
     "end_time": "2021-04-05T12:44:48.140733Z",
     "start_time": "2021-04-05T12:44:48.105890Z"
    }
   },
   "outputs": [
    {
     "data": {
      "text/plain": [
       "True     86\n",
       "False    64\n",
       "Name: canonical, dtype: int64"
      ]
     },
     "execution_count": 34,
     "metadata": {},
     "output_type": "execute_result"
    }
   ],
   "source": [
    "# keep the non canonical blocks for later analysis\n",
    "blocks_df.canonical.value_counts()"
   ]
  },
  {
   "cell_type": "code",
   "execution_count": null,
   "id": "opening-access",
   "metadata": {},
   "outputs": [],
   "source": []
  },
  {
   "cell_type": "code",
   "execution_count": 11,
   "id": "arabic-timing",
   "metadata": {
    "ExecuteTime": {
     "end_time": "2021-04-05T12:43:36.419094Z",
     "start_time": "2021-04-05T12:43:36.383294Z"
    }
   },
   "outputs": [],
   "source": [
    "# keep only the canonical blocks\n",
    "df = blocks_df[blocks_df.canonical == True]\n",
    "\n",
    "df.dateTime = pd.to_datetime(df.dateTime)\n",
    "df.transactions_coinbase = df.transactions_coinbase.astype(int)\n",
    "df.txFees = df.txFees.astype(int)\n",
    "df.snarkFees = df.snarkFees.astype(int)"
   ]
  },
  {
   "cell_type": "code",
   "execution_count": 12,
   "id": "desirable-pastor",
   "metadata": {
    "ExecuteTime": {
     "end_time": "2021-04-05T12:43:36.610623Z",
     "start_time": "2021-04-05T12:43:36.559026Z"
    }
   },
   "outputs": [
    {
     "data": {
      "text/html": [
       "<div>\n",
       "<style scoped>\n",
       "    .dataframe tbody tr th:only-of-type {\n",
       "        vertical-align: middle;\n",
       "    }\n",
       "\n",
       "    .dataframe tbody tr th {\n",
       "        vertical-align: top;\n",
       "    }\n",
       "\n",
       "    .dataframe thead th {\n",
       "        text-align: right;\n",
       "    }\n",
       "</style>\n",
       "<table border=\"1\" class=\"dataframe\">\n",
       "  <thead>\n",
       "    <tr style=\"text-align: right;\">\n",
       "      <th></th>\n",
       "      <th>blockHeight</th>\n",
       "      <th>canonical</th>\n",
       "      <th>dateTime</th>\n",
       "      <th>snarkFees</th>\n",
       "      <th>stateHash</th>\n",
       "      <th>txFees</th>\n",
       "      <th>protocolState_consensusState_totalCurrency</th>\n",
       "      <th>transactions_coinbase</th>\n",
       "      <th>transactions_coinbaseReceiverAccount_publicKey</th>\n",
       "      <th>transactions_feeTransfer</th>\n",
       "      <th>transactions_userCommands</th>\n",
       "    </tr>\n",
       "  </thead>\n",
       "  <tbody>\n",
       "    <tr>\n",
       "      <th>0</th>\n",
       "      <td>5044</td>\n",
       "      <td>True</td>\n",
       "      <td>2021-03-31 19:00:00+00:00</td>\n",
       "      <td>0</td>\n",
       "      <td>3NKwM2qNH3mHJUnVW7ceDD1vZmRwu6JRxh3yS9KURv84LS...</td>\n",
       "      <td>30000000</td>\n",
       "      <td>808924492840039300</td>\n",
       "      <td>720000000000</td>\n",
       "      <td>B62qk9WYHu2PBYv4EyEubnVQURcwpiV2ysuYYoMdwi8YTn...</td>\n",
       "      <td>[{'fee': '30000000', 'recipient': 'B62qk9WYHu2...</td>\n",
       "      <td>[{'amount': 1000, 'blockHeight': 5044, 'blockS...</td>\n",
       "    </tr>\n",
       "    <tr>\n",
       "      <th>3</th>\n",
       "      <td>4933</td>\n",
       "      <td>True</td>\n",
       "      <td>2021-03-31 11:15:00+00:00</td>\n",
       "      <td>0</td>\n",
       "      <td>3NLsUwqgg9wLgs2jPt4fc7C6nCFVcwV2fEtUvBgayJ1Pj8...</td>\n",
       "      <td>20000000</td>\n",
       "      <td>808772572840039300</td>\n",
       "      <td>720000000000</td>\n",
       "      <td>B62qk9WYHu2PBYv4EyEubnVQURcwpiV2ysuYYoMdwi8YTn...</td>\n",
       "      <td>[{'fee': '20000000', 'recipient': 'B62qk9WYHu2...</td>\n",
       "      <td>[{'amount': 1000, 'blockHeight': 4933, 'blockS...</td>\n",
       "    </tr>\n",
       "    <tr>\n",
       "      <th>4</th>\n",
       "      <td>4863</td>\n",
       "      <td>True</td>\n",
       "      <td>2021-03-31 06:18:00+00:00</td>\n",
       "      <td>0</td>\n",
       "      <td>3NLxWu1srPkcm5oaSDg6Bv6rTfeRiDToZHRs36AfP5weXQ...</td>\n",
       "      <td>31000000</td>\n",
       "      <td>808684732840039300</td>\n",
       "      <td>720000000000</td>\n",
       "      <td>B62qk9WYHu2PBYv4EyEubnVQURcwpiV2ysuYYoMdwi8YTn...</td>\n",
       "      <td>[{'fee': '31000000', 'recipient': 'B62qk9WYHu2...</td>\n",
       "      <td>[{'amount': 0, 'blockHeight': 4863, 'blockStat...</td>\n",
       "    </tr>\n",
       "    <tr>\n",
       "      <th>11</th>\n",
       "      <td>4666</td>\n",
       "      <td>True</td>\n",
       "      <td>2021-03-30 16:30:00+00:00</td>\n",
       "      <td>0</td>\n",
       "      <td>3NKAPj9zPTvy17i7uQ9ePGp9U377A4divJf2Qiu5dr2SQ3...</td>\n",
       "      <td>40000000</td>\n",
       "      <td>808451452840039300</td>\n",
       "      <td>720000000000</td>\n",
       "      <td>B62qk9WYHu2PBYv4EyEubnVQURcwpiV2ysuYYoMdwi8YTn...</td>\n",
       "      <td>[{'fee': '40000000', 'recipient': 'B62qk9WYHu2...</td>\n",
       "      <td>[{'amount': 1000, 'blockHeight': 4666, 'blockS...</td>\n",
       "    </tr>\n",
       "    <tr>\n",
       "      <th>12</th>\n",
       "      <td>4594</td>\n",
       "      <td>True</td>\n",
       "      <td>2021-03-30 11:18:00+00:00</td>\n",
       "      <td>0</td>\n",
       "      <td>3NKu4jk4AaCF1V9JJDGjMsPpAHYpUX37YosHSg6pLBrGjt...</td>\n",
       "      <td>20000000</td>\n",
       "      <td>808390252840039300</td>\n",
       "      <td>720000000000</td>\n",
       "      <td>B62qk9WYHu2PBYv4EyEubnVQURcwpiV2ysuYYoMdwi8YTn...</td>\n",
       "      <td>[{'fee': '20000000', 'recipient': 'B62qk9WYHu2...</td>\n",
       "      <td>[{'amount': 1000, 'blockHeight': 4594, 'blockS...</td>\n",
       "    </tr>\n",
       "  </tbody>\n",
       "</table>\n",
       "</div>"
      ],
      "text/plain": [
       "    blockHeight  canonical                  dateTime  snarkFees  \\\n",
       "0          5044       True 2021-03-31 19:00:00+00:00          0   \n",
       "3          4933       True 2021-03-31 11:15:00+00:00          0   \n",
       "4          4863       True 2021-03-31 06:18:00+00:00          0   \n",
       "11         4666       True 2021-03-30 16:30:00+00:00          0   \n",
       "12         4594       True 2021-03-30 11:18:00+00:00          0   \n",
       "\n",
       "                                            stateHash    txFees  \\\n",
       "0   3NKwM2qNH3mHJUnVW7ceDD1vZmRwu6JRxh3yS9KURv84LS...  30000000   \n",
       "3   3NLsUwqgg9wLgs2jPt4fc7C6nCFVcwV2fEtUvBgayJ1Pj8...  20000000   \n",
       "4   3NLxWu1srPkcm5oaSDg6Bv6rTfeRiDToZHRs36AfP5weXQ...  31000000   \n",
       "11  3NKAPj9zPTvy17i7uQ9ePGp9U377A4divJf2Qiu5dr2SQ3...  40000000   \n",
       "12  3NKu4jk4AaCF1V9JJDGjMsPpAHYpUX37YosHSg6pLBrGjt...  20000000   \n",
       "\n",
       "    protocolState_consensusState_totalCurrency  transactions_coinbase  \\\n",
       "0                           808924492840039300           720000000000   \n",
       "3                           808772572840039300           720000000000   \n",
       "4                           808684732840039300           720000000000   \n",
       "11                          808451452840039300           720000000000   \n",
       "12                          808390252840039300           720000000000   \n",
       "\n",
       "       transactions_coinbaseReceiverAccount_publicKey  \\\n",
       "0   B62qk9WYHu2PBYv4EyEubnVQURcwpiV2ysuYYoMdwi8YTn...   \n",
       "3   B62qk9WYHu2PBYv4EyEubnVQURcwpiV2ysuYYoMdwi8YTn...   \n",
       "4   B62qk9WYHu2PBYv4EyEubnVQURcwpiV2ysuYYoMdwi8YTn...   \n",
       "11  B62qk9WYHu2PBYv4EyEubnVQURcwpiV2ysuYYoMdwi8YTn...   \n",
       "12  B62qk9WYHu2PBYv4EyEubnVQURcwpiV2ysuYYoMdwi8YTn...   \n",
       "\n",
       "                             transactions_feeTransfer  \\\n",
       "0   [{'fee': '30000000', 'recipient': 'B62qk9WYHu2...   \n",
       "3   [{'fee': '20000000', 'recipient': 'B62qk9WYHu2...   \n",
       "4   [{'fee': '31000000', 'recipient': 'B62qk9WYHu2...   \n",
       "11  [{'fee': '40000000', 'recipient': 'B62qk9WYHu2...   \n",
       "12  [{'fee': '20000000', 'recipient': 'B62qk9WYHu2...   \n",
       "\n",
       "                            transactions_userCommands  \n",
       "0   [{'amount': 1000, 'blockHeight': 5044, 'blockS...  \n",
       "3   [{'amount': 1000, 'blockHeight': 4933, 'blockS...  \n",
       "4   [{'amount': 0, 'blockHeight': 4863, 'blockStat...  \n",
       "11  [{'amount': 1000, 'blockHeight': 4666, 'blockS...  \n",
       "12  [{'amount': 1000, 'blockHeight': 4594, 'blockS...  "
      ]
     },
     "execution_count": 12,
     "metadata": {},
     "output_type": "execute_result"
    }
   ],
   "source": [
    "df.head()"
   ]
  },
  {
   "cell_type": "code",
   "execution_count": 13,
   "id": "powered-significance",
   "metadata": {
    "ExecuteTime": {
     "end_time": "2021-04-05T12:43:37.338086Z",
     "start_time": "2021-04-05T12:43:37.304185Z"
    }
   },
   "outputs": [],
   "source": [
    "# this can be done nixer with df.explode\n",
    "def get_create_fee(row):\n",
    "    receiver = row[\"transactions_coinbaseReceiverAccount_publicKey\"]\n",
    "    reveicer_transactions = [\n",
    "        x for x in row[\"transactions_feeTransfer\"] if x[\"recipient\"] == receiver\n",
    "    ]\n",
    "    return sum_transactions(reveicer_transactions)\n",
    "\n",
    "\n",
    "def sum_transactions(transactions, transaction_type=\"Fee_transfer\"):\n",
    "    return sum(\n",
    "        [\n",
    "            int(transaction[\"fee\"])\n",
    "            for transaction in transactions\n",
    "            if transaction[\"type\"] == transaction_type\n",
    "        ]\n",
    "    )\n",
    "\n",
    "\n",
    "df[\"fee_transfers\"] = df.transactions_feeTransfer.apply(lambda x: sum_transactions(x))\n",
    "\n",
    "df[\"fee_transfer_via_coinbase\"] = df.transactions_feeTransfer.apply(\n",
    "    lambda x: sum_transactions(x, transaction_type=\"Fee_transfer_via_coinbase\")\n",
    ")"
   ]
  },
  {
   "cell_type": "code",
   "execution_count": 14,
   "id": "naughty-longitude",
   "metadata": {
    "ExecuteTime": {
     "end_time": "2021-04-05T12:43:37.846805Z",
     "start_time": "2021-04-05T12:43:37.815320Z"
    }
   },
   "outputs": [],
   "source": [
    "df['supercharged_weighting'] = 1 + (\n",
    "    1\n",
    "    / (\n",
    "        1\n",
    "        + (df.txFees - df.snarkFees)\n",
    "        / (df.transactions_coinbase - df.fee_transfer_via_coinbase)\n",
    "    )\n",
    ")"
   ]
  },
  {
   "cell_type": "code",
   "execution_count": 15,
   "id": "ranking-boston",
   "metadata": {
    "ExecuteTime": {
     "end_time": "2021-04-05T12:43:38.138965Z",
     "start_time": "2021-04-05T12:43:38.106401Z"
    }
   },
   "outputs": [],
   "source": [
    "df[\"total_rewards\"] = (\n",
    "    df.transactions_coinbase + df.txFees - df.fee_transfer_via_coinbase\n",
    ")\n",
    "\n",
    "df['total_fees'] = 0.05 * df.total_rewards\n",
    "\n",
    "# for later convenience\n",
    "block_height_to_total_rewards_dict = dict(zip(df.blockHeight, df.total_rewards))"
   ]
  },
  {
   "cell_type": "code",
   "execution_count": 16,
   "id": "rental-mentor",
   "metadata": {
    "ExecuteTime": {
     "end_time": "2021-04-05T12:43:38.659776Z",
     "start_time": "2021-04-05T12:43:38.319208Z"
    }
   },
   "outputs": [
    {
     "data": {
      "text/plain": [
       "<AxesSubplot:xlabel='dateTime'>"
      ]
     },
     "execution_count": 16,
     "metadata": {},
     "output_type": "execute_result"
    },
    {
     "data": {
      "image/png": "[encoded data removed]",
      "text/plain": [
       "<Figure size 720x576 with 1 Axes>"
      ]
     },
     "metadata": {},
     "output_type": "display_data"
    }
   ],
   "source": [
    "plot_df = df.set_index(\"dateTime\", drop=False)\n",
    "plot_df.resample(\"D\").agg(\n",
    "    {\"total_fees\": lambda x: x.sum() / 1e9, \"total_rewards\": lambda x: x.sum() / 1e9}\n",
    ").plot()"
   ]
  },
  {
   "cell_type": "code",
   "execution_count": 17,
   "id": "flush-possession",
   "metadata": {
    "ExecuteTime": {
     "end_time": "2021-04-05T12:43:39.359330Z",
     "start_time": "2021-04-05T12:43:39.110949Z"
    }
   },
   "outputs": [
    {
     "data": {
      "text/plain": [
       "<AxesSubplot:xlabel='dateTime'>"
      ]
     },
     "execution_count": 17,
     "metadata": {},
     "output_type": "execute_result"
    },
    {
     "data": {
      "image/png": "[encoded data removed]",
      "text/plain": [
       "<Figure size 720x576 with 1 Axes>"
      ]
     },
     "metadata": {},
     "output_type": "display_data"
    }
   ],
   "source": [
    "plot_df.resample(\"D\").agg({\"blockHeight\": \"count\"}).plot()"
   ]
  },
  {
   "cell_type": "code",
   "execution_count": null,
   "id": "editorial-eight",
   "metadata": {},
   "outputs": [],
   "source": []
  },
  {
   "cell_type": "markdown",
   "id": "moderate-psychology",
   "metadata": {},
   "source": [
    "## payouts"
   ]
  },
  {
   "cell_type": "code",
   "execution_count": 18,
   "id": "atlantic-boulder",
   "metadata": {
    "ExecuteTime": {
     "end_time": "2021-04-05T12:43:40.035623Z",
     "start_time": "2021-04-05T12:43:39.989300Z"
    }
   },
   "outputs": [],
   "source": [
    "merged_df = df.merge(stakes_df, how='cross')"
   ]
  },
  {
   "cell_type": "code",
   "execution_count": 19,
   "id": "atmospheric-activation",
   "metadata": {
    "ExecuteTime": {
     "end_time": "2021-04-05T12:43:40.219522Z",
     "start_time": "2021-04-05T12:43:40.183486Z"
    }
   },
   "outputs": [],
   "source": [
    "# make this nicer\n",
    "foundation_df = merged_df[merged_df.is_foundation_delegation == True]\n",
    "non_foundation_df = merged_df[merged_df.is_foundation_delegation == False]"
   ]
  },
  {
   "cell_type": "markdown",
   "id": "graphic-mobility",
   "metadata": {},
   "source": [
    "### foundation"
   ]
  },
  {
   "cell_type": "code",
   "execution_count": 20,
   "id": "limited-beaver",
   "metadata": {
    "ExecuteTime": {
     "end_time": "2021-04-05T12:43:40.556406Z",
     "start_time": "2021-04-05T12:43:40.515803Z"
    }
   },
   "outputs": [
    {
     "data": {
      "text/html": [
       "<div>\n",
       "<style scoped>\n",
       "    .dataframe tbody tr th:only-of-type {\n",
       "        vertical-align: middle;\n",
       "    }\n",
       "\n",
       "    .dataframe tbody tr th {\n",
       "        vertical-align: top;\n",
       "    }\n",
       "\n",
       "    .dataframe thead th {\n",
       "        text-align: right;\n",
       "    }\n",
       "</style>\n",
       "<table border=\"1\" class=\"dataframe\">\n",
       "  <thead>\n",
       "    <tr style=\"text-align: right;\">\n",
       "      <th></th>\n",
       "      <th>payout</th>\n",
       "    </tr>\n",
       "    <tr>\n",
       "      <th>public_key</th>\n",
       "      <th></th>\n",
       "    </tr>\n",
       "  </thead>\n",
       "  <tbody>\n",
       "    <tr>\n",
       "      <th>B62qmQAFPta1Q3c7wXHxXRKnE3uWyBYZCLb8frdHEgavi3BbBVkpeC1</th>\n",
       "      <td>2717.534961</td>\n",
       "    </tr>\n",
       "    <tr>\n",
       "      <th>B62qmsYXFNNE565yv7bEMPsPnpRCsMErf7J2v5jMnuKQ1jgwZS8BzXS</th>\n",
       "      <td>9156.036394</td>\n",
       "    </tr>\n",
       "    <tr>\n",
       "      <th>B62qn71s63yywMUCcFhP4iCata7HpgyrvmGjpKa1D9544vGW6FBZ6a1</th>\n",
       "      <td>4869.799366</td>\n",
       "    </tr>\n",
       "    <tr>\n",
       "      <th>B62qqEV4oP7w2jLQGckvZzdWjfdLKySKHJ3tNU5niRjpPD7beYumWTB</th>\n",
       "      <td>3285.750670</td>\n",
       "    </tr>\n",
       "  </tbody>\n",
       "</table>\n",
       "</div>"
      ],
      "text/plain": [
       "                                                         payout\n",
       "public_key                                                     \n",
       "B62qmQAFPta1Q3c7wXHxXRKnE3uWyBYZCLb8frdHEgavi3B...  2717.534961\n",
       "B62qmsYXFNNE565yv7bEMPsPnpRCsMErf7J2v5jMnuKQ1jg...  9156.036394\n",
       "B62qn71s63yywMUCcFhP4iCata7HpgyrvmGjpKa1D9544vG...  4869.799366\n",
       "B62qqEV4oP7w2jLQGckvZzdWjfdLKySKHJ3tNU5niRjpPD7...  3285.750670"
      ]
     },
     "execution_count": 20,
     "metadata": {},
     "output_type": "execute_result"
    }
   ],
   "source": [
    "foundation_df.loc[:, \"payout\"] = (\n",
    "    (foundation_df.balance / total_staking_balance)\n",
    "    * foundation_df.transactions_coinbase\n",
    "    * (1 - STAKER_FOUNDATION_FEE)\n",
    ")\n",
    "\n",
    "foundation_block_to_total_rewards_dict = (\n",
    "    foundation_df.groupby([\"blockHeight\"])[\"payout\"].sum().to_dict()\n",
    ")\n",
    "\n",
    "# payouts to foundation in mina\n",
    "foundation_payout_df = foundation_df.groupby(\"public_key\")[\"payout\"].sum().to_frame()\n",
    "foundation_payout_df / 1e9"
   ]
  },
  {
   "cell_type": "code",
   "execution_count": null,
   "id": "enabling-hartford",
   "metadata": {},
   "outputs": [],
   "source": []
  },
  {
   "cell_type": "code",
   "execution_count": null,
   "id": "ideal-guitar",
   "metadata": {},
   "outputs": [],
   "source": []
  },
  {
   "cell_type": "markdown",
   "id": "assumed-magnet",
   "metadata": {},
   "source": [
    "# non foundation"
   ]
  },
  {
   "cell_type": "code",
   "execution_count": 21,
   "id": "cordless-camel",
   "metadata": {
    "ExecuteTime": {
     "end_time": "2021-04-05T12:43:41.244311Z",
     "start_time": "2021-04-05T12:43:41.211048Z"
    }
   },
   "outputs": [],
   "source": [
    "non_foundation_df.loc[:, \"supercharged_contribution\"] = (\n",
    "    (non_foundation_df.supercharged_weighting - 1)\n",
    "    * non_foundation_df.timing_timed_weighting\n",
    ") + 1\n",
    "\n",
    "non_foundation_df.loc[:, \"effective_stake\"] = (\n",
    "    non_foundation_df.balance * non_foundation_df.supercharged_contribution\n",
    ")"
   ]
  },
  {
   "cell_type": "code",
   "execution_count": 22,
   "id": "basic-oxide",
   "metadata": {
    "ExecuteTime": {
     "end_time": "2021-04-05T12:43:41.590811Z",
     "start_time": "2021-04-05T12:43:41.371189Z"
    }
   },
   "outputs": [],
   "source": [
    "weights_dict = (\n",
    "    non_foundation_df.groupby([\"blockHeight\", \"public_key\"])[\"effective_stake\"].sum()\n",
    "    / non_foundation_df.groupby(\"blockHeight\")[\"effective_stake\"].sum()\n",
    ").to_dict()\n",
    "\n",
    "\n",
    "def get_block_total(row):\n",
    "    block_height = row[\"blockHeight\"]\n",
    "    public_key = row[\"public_key\"]\n",
    "\n",
    "    w = weights_dict[(block_height, public_key)]\n",
    "\n",
    "    block_total_rewards = block_height_to_total_rewards_dict[block_height]\n",
    "    foundation_payouts = foundation_block_to_total_rewards_dict.get(block_height, 0)\n",
    "    block_pool_share = block_total_rewards - (\n",
    "        foundation_payouts / (1 - STAKER_FOUNDATION_FEE)\n",
    "    )\n",
    "\n",
    "    return block_pool_share * w * (1.0 - STAKER_FEE)\n",
    "\n",
    "\n",
    "non_foundation_df[\"payout\"] = non_foundation_df.apply(\n",
    "    lambda row: get_block_total(row), axis=1\n",
    ")"
   ]
  },
  {
   "cell_type": "code",
   "execution_count": 23,
   "id": "discrete-factory",
   "metadata": {
    "ExecuteTime": {
     "end_time": "2021-04-05T12:43:41.642254Z",
     "start_time": "2021-04-05T12:43:41.593161Z"
    }
   },
   "outputs": [
    {
     "data": {
      "text/html": [
       "<div>\n",
       "<style scoped>\n",
       "    .dataframe tbody tr th:only-of-type {\n",
       "        vertical-align: middle;\n",
       "    }\n",
       "\n",
       "    .dataframe tbody tr th {\n",
       "        vertical-align: top;\n",
       "    }\n",
       "\n",
       "    .dataframe thead th {\n",
       "        text-align: right;\n",
       "    }\n",
       "</style>\n",
       "<table border=\"1\" class=\"dataframe\">\n",
       "  <thead>\n",
       "    <tr style=\"text-align: right;\">\n",
       "      <th></th>\n",
       "      <th>payout</th>\n",
       "    </tr>\n",
       "    <tr>\n",
       "      <th>public_key</th>\n",
       "      <th></th>\n",
       "    </tr>\n",
       "  </thead>\n",
       "  <tbody>\n",
       "    <tr>\n",
       "      <th>B62qiWSe63weqBN3vpnUyagnMkYmvRwKKQJ4dKckuJFsojUAYY56mfx</th>\n",
       "      <td>356.745540</td>\n",
       "    </tr>\n",
       "    <tr>\n",
       "      <th>B62qiX7wCtUbpzgJavPKbfBcLJ6nyYB88cWjfwjWZiyZZLS7weCDxwm</th>\n",
       "      <td>1097.550174</td>\n",
       "    </tr>\n",
       "    <tr>\n",
       "      <th>B62qid7mcNh29WVifR2qWQDLJ9dRu94EUcbsgrTr9fdFMGsPQzWv8Qo</th>\n",
       "      <td>356.745540</td>\n",
       "    </tr>\n",
       "    <tr>\n",
       "      <th>B62qieizHWA2zusWh8y9eCzqA6dvgGNSs5RJGHPmAGcBtdgr8BRSfEg</th>\n",
       "      <td>356.745540</td>\n",
       "    </tr>\n",
       "    <tr>\n",
       "      <th>B62qikygSmv245hJZQzAhAqxfqeNiyPDZUS9MME4HkP9oFNhij85XUp</th>\n",
       "      <td>356.745540</td>\n",
       "    </tr>\n",
       "  </tbody>\n",
       "</table>\n",
       "</div>"
      ],
      "text/plain": [
       "                                                         payout\n",
       "public_key                                                     \n",
       "B62qiWSe63weqBN3vpnUyagnMkYmvRwKKQJ4dKckuJFsojU...   356.745540\n",
       "B62qiX7wCtUbpzgJavPKbfBcLJ6nyYB88cWjfwjWZiyZZLS...  1097.550174\n",
       "B62qid7mcNh29WVifR2qWQDLJ9dRu94EUcbsgrTr9fdFMGs...   356.745540\n",
       "B62qieizHWA2zusWh8y9eCzqA6dvgGNSs5RJGHPmAGcBtdg...   356.745540\n",
       "B62qikygSmv245hJZQzAhAqxfqeNiyPDZUS9MME4HkP9oFN...   356.745540"
      ]
     },
     "execution_count": 23,
     "metadata": {},
     "output_type": "execute_result"
    }
   ],
   "source": [
    "# payouts to foundation in mina\n",
    "non_foundation_payout_df = (\n",
    "    non_foundation_df.groupby(\"public_key\")[\"payout\"].sum().to_frame().astype(int)\n",
    ")\n",
    "non_foundation_payout_df.head() / 1e9"
   ]
  },
  {
   "cell_type": "code",
   "execution_count": null,
   "id": "radio-baking",
   "metadata": {},
   "outputs": [],
   "source": []
  },
  {
   "cell_type": "code",
   "execution_count": 24,
   "id": "revised-walter",
   "metadata": {
    "ExecuteTime": {
     "end_time": "2021-04-05T12:43:41.920293Z",
     "start_time": "2021-04-05T12:43:41.880825Z"
    }
   },
   "outputs": [
    {
     "data": {
      "text/html": [
       "<div>\n",
       "<style scoped>\n",
       "    .dataframe tbody tr th:only-of-type {\n",
       "        vertical-align: middle;\n",
       "    }\n",
       "\n",
       "    .dataframe tbody tr th {\n",
       "        vertical-align: top;\n",
       "    }\n",
       "\n",
       "    .dataframe thead th {\n",
       "        text-align: right;\n",
       "    }\n",
       "</style>\n",
       "<table border=\"1\" class=\"dataframe\">\n",
       "  <thead>\n",
       "    <tr style=\"text-align: right;\">\n",
       "      <th></th>\n",
       "      <th>payout</th>\n",
       "      <th>is_foundation</th>\n",
       "    </tr>\n",
       "    <tr>\n",
       "      <th>public_key</th>\n",
       "      <th></th>\n",
       "      <th></th>\n",
       "    </tr>\n",
       "  </thead>\n",
       "  <tbody>\n",
       "    <tr>\n",
       "      <th>B62qmsYXFNNE565yv7bEMPsPnpRCsMErf7J2v5jMnuKQ1jgwZS8BzXS</th>\n",
       "      <td>9156.036394</td>\n",
       "      <td>True</td>\n",
       "    </tr>\n",
       "    <tr>\n",
       "      <th>B62qn71s63yywMUCcFhP4iCata7HpgyrvmGjpKa1D9544vGW6FBZ6a1</th>\n",
       "      <td>4869.799366</td>\n",
       "      <td>True</td>\n",
       "    </tr>\n",
       "    <tr>\n",
       "      <th>B62qqEV4oP7w2jLQGckvZzdWjfdLKySKHJ3tNU5niRjpPD7beYumWTB</th>\n",
       "      <td>3285.750670</td>\n",
       "      <td>True</td>\n",
       "    </tr>\n",
       "    <tr>\n",
       "      <th>B62qmQAFPta1Q3c7wXHxXRKnE3uWyBYZCLb8frdHEgavi3BbBVkpeC1</th>\n",
       "      <td>2717.534961</td>\n",
       "      <td>True</td>\n",
       "    </tr>\n",
       "    <tr>\n",
       "      <th>B62qoUiAHZZ9xY7BibT84iwMtgQidQByE7tCuNhn6DmyKhUPAzpnJAd</th>\n",
       "      <td>1658.450105</td>\n",
       "      <td>False</td>\n",
       "    </tr>\n",
       "    <tr>\n",
       "      <th>B62qrQMPSJpee1NnxVb4cr1qBtH3kMNpXaHVj4oVxNhqadCMBk6wELy</th>\n",
       "      <td>1658.450105</td>\n",
       "      <td>False</td>\n",
       "    </tr>\n",
       "    <tr>\n",
       "      <th>B62qiX7wCtUbpzgJavPKbfBcLJ6nyYB88cWjfwjWZiyZZLS7weCDxwm</th>\n",
       "      <td>1097.550174</td>\n",
       "      <td>False</td>\n",
       "    </tr>\n",
       "    <tr>\n",
       "      <th>B62qouqyiJfmysbVqgXZJy7rDvh2ZT1w5vmEQXqKAkpfvk37xQePyYL</th>\n",
       "      <td>1097.550174</td>\n",
       "      <td>False</td>\n",
       "    </tr>\n",
       "    <tr>\n",
       "      <th>B62qowpMhZ2Ww7b8xQxcK7rrpfsL5Nt5Yz5uxaizUBKqpeZUqBETa31</th>\n",
       "      <td>356.745540</td>\n",
       "      <td>False</td>\n",
       "    </tr>\n",
       "    <tr>\n",
       "      <th>B62qprj7x2ByZHbVAf8r7k4fZKR4f745ysQA3fYgZh3gSdPoWXCDry7</th>\n",
       "      <td>356.745540</td>\n",
       "      <td>False</td>\n",
       "    </tr>\n",
       "  </tbody>\n",
       "</table>\n",
       "</div>"
      ],
      "text/plain": [
       "                                                         payout  is_foundation\n",
       "public_key                                                                    \n",
       "B62qmsYXFNNE565yv7bEMPsPnpRCsMErf7J2v5jMnuKQ1jg...  9156.036394           True\n",
       "B62qn71s63yywMUCcFhP4iCata7HpgyrvmGjpKa1D9544vG...  4869.799366           True\n",
       "B62qqEV4oP7w2jLQGckvZzdWjfdLKySKHJ3tNU5niRjpPD7...  3285.750670           True\n",
       "B62qmQAFPta1Q3c7wXHxXRKnE3uWyBYZCLb8frdHEgavi3B...  2717.534961           True\n",
       "B62qoUiAHZZ9xY7BibT84iwMtgQidQByE7tCuNhn6DmyKhU...  1658.450105          False\n",
       "B62qrQMPSJpee1NnxVb4cr1qBtH3kMNpXaHVj4oVxNhqadC...  1658.450105          False\n",
       "B62qiX7wCtUbpzgJavPKbfBcLJ6nyYB88cWjfwjWZiyZZLS...  1097.550174          False\n",
       "B62qouqyiJfmysbVqgXZJy7rDvh2ZT1w5vmEQXqKAkpfvk3...  1097.550174          False\n",
       "B62qowpMhZ2Ww7b8xQxcK7rrpfsL5Nt5Yz5uxaizUBKqpeZ...   356.745540          False\n",
       "B62qprj7x2ByZHbVAf8r7k4fZKR4f745ysQA3fYgZh3gSdP...   356.745540          False"
      ]
     },
     "execution_count": 24,
     "metadata": {},
     "output_type": "execute_result"
    }
   ],
   "source": [
    "payout_df = pd.concat([foundation_payout_df, non_foundation_payout_df]).sort_values(\n",
    "    by=\"payout\", ascending=False\n",
    ") / 1e9\n",
    "payout_df['is_foundation'] = payout_df.index.isin(FOUNDATION_DELEGATION_ADDRESSES)\n",
    "payout_df.head(n=10)"
   ]
  },
  {
   "cell_type": "code",
   "execution_count": null,
   "id": "written-zealand",
   "metadata": {},
   "outputs": [],
   "source": []
  },
  {
   "cell_type": "code",
   "execution_count": null,
   "id": "freelance-exploration",
   "metadata": {},
   "outputs": [],
   "source": []
  },
  {
   "cell_type": "markdown",
   "id": "specialized-token",
   "metadata": {},
   "source": [
    "### play"
   ]
  },
  {
   "cell_type": "code",
   "execution_count": 25,
   "id": "touched-learning",
   "metadata": {
    "ExecuteTime": {
     "end_time": "2021-04-05T12:43:43.664321Z",
     "start_time": "2021-04-05T12:43:43.240134Z"
    }
   },
   "outputs": [
    {
     "data": {
      "image/png": "[encoded data removed]",
      "text/plain": [
       "<Figure size 720x576 with 1 Axes>"
      ]
     },
     "metadata": {},
     "output_type": "display_data"
    }
   ],
   "source": [
    "plot_df = payout_df.head(n=15) \n",
    "ax = sns.barplot(\n",
    "    x=\"payout\", y=plot_df.index, data=plot_df, orient=\"h\", hue=\"is_foundation\"\n",
    ")"
   ]
  },
  {
   "cell_type": "code",
   "execution_count": null,
   "id": "regulated-georgia",
   "metadata": {},
   "outputs": [],
   "source": []
  },
  {
   "cell_type": "markdown",
   "id": "exposed-lambda",
   "metadata": {
    "ExecuteTime": {
     "end_time": "2021-04-05T11:36:01.170506Z",
     "start_time": "2021-04-05T11:36:01.138872Z"
    }
   },
   "source": [
    "### luck/performance"
   ]
  },
  {
   "cell_type": "code",
   "execution_count": 26,
   "id": "alleged-bench",
   "metadata": {
    "ExecuteTime": {
     "end_time": "2021-04-05T12:43:45.352092Z",
     "start_time": "2021-04-05T12:43:45.318601Z"
    }
   },
   "outputs": [],
   "source": [
    "slots_per_epoch = 7140\n",
    "\n",
    "def get_slot_win_perc(stake, total_currency):\n",
    "    return (1 - ((1 / 4) ** (stake / total_currency)))"
   ]
  },
  {
   "cell_type": "code",
   "execution_count": 27,
   "id": "measured-plate",
   "metadata": {
    "ExecuteTime": {
     "end_time": "2021-04-05T12:43:46.036656Z",
     "start_time": "2021-04-05T12:43:46.010240Z"
    }
   },
   "outputs": [
    {
     "name": "stdout",
     "output_type": "stream",
     "text": [
      "slot_win_pct: 0.018526292667700894\n"
     ]
    }
   ],
   "source": [
    "# make this more precise\n",
    "slot_win_pct = get_slot_win_perc(\n",
    "    total_staking_balance, df.protocolState_consensusState_totalCurrency.mean() / 1e9\n",
    ")\n",
    "print(f\"slot_win_pct: {slot_win_pct}\")"
   ]
  },
  {
   "cell_type": "code",
   "execution_count": 28,
   "id": "provincial-salvation",
   "metadata": {
    "ExecuteTime": {
     "end_time": "2021-04-05T12:43:46.441672Z",
     "start_time": "2021-04-05T12:43:46.408986Z"
    }
   },
   "outputs": [
    {
     "name": "stdout",
     "output_type": "stream",
     "text": [
      "expected blocks: 132.27772964738438\n"
     ]
    }
   ],
   "source": [
    "expected_blocks_value = slot_win_pct * slots_per_epoch \n",
    "print(f\"expected blocks: {expected_blocks_value}\")"
   ]
  },
  {
   "cell_type": "code",
   "execution_count": 29,
   "id": "nonprofit-diesel",
   "metadata": {
    "ExecuteTime": {
     "end_time": "2021-04-05T12:43:47.804251Z",
     "start_time": "2021-04-05T12:43:47.771835Z"
    }
   },
   "outputs": [
    {
     "data": {
      "text/plain": [
       "132.2777296466144"
      ]
     },
     "execution_count": 29,
     "metadata": {},
     "output_type": "execute_result"
    }
   ],
   "source": [
    "# theory\n",
    "binom(slots_per_epoch, slot_win_pct).expect()"
   ]
  },
  {
   "cell_type": "code",
   "execution_count": 30,
   "id": "hybrid-chemical",
   "metadata": {
    "ExecuteTime": {
     "end_time": "2021-04-05T12:43:48.495617Z",
     "start_time": "2021-04-05T12:43:48.463993Z"
    }
   },
   "outputs": [
    {
     "name": "stdout",
     "output_type": "stream",
     "text": [
      "all_won_blocks: 144\n"
     ]
    }
   ],
   "source": [
    "# canonical + non-canonical\n",
    "all_won_blocks = blocks_df.blockHeight.nunique()\n",
    "print(f\"all_won_blocks: {all_won_blocks}\")"
   ]
  },
  {
   "cell_type": "code",
   "execution_count": 31,
   "id": "ambient-atlas",
   "metadata": {
    "ExecuteTime": {
     "end_time": "2021-04-05T12:43:48.808460Z",
     "start_time": "2021-04-05T12:43:48.763704Z"
    }
   },
   "outputs": [],
   "source": [
    "# simulation\n",
    "data = binom.rvs(n=slots_per_epoch, p=slot_win_pct, size=100000)\n",
    "\n",
    "k = np.arange(int(expected_blocks_value - 50), int(expected_blocks_value) + 50, 1)"
   ]
  },
  {
   "cell_type": "code",
   "execution_count": 32,
   "id": "perfect-council",
   "metadata": {
    "ExecuteTime": {
     "end_time": "2021-04-05T12:43:49.708302Z",
     "start_time": "2021-04-05T12:43:49.024075Z"
    }
   },
   "outputs": [
    {
     "data": {
      "text/plain": [
       "<matplotlib.lines.Line2D at 0x7fd35dcfb430>"
      ]
     },
     "execution_count": 32,
     "metadata": {},
     "output_type": "execute_result"
    },
    {
     "data": {
      "image/png": "[encoded data removed]",
      "text/plain": [
       "<Figure size 720x576 with 1 Axes>"
      ]
     },
     "metadata": {},
     "output_type": "display_data"
    }
   ],
   "source": [
    "sns.histplot(data, kde=True, bins=k)\n",
    "plt.axvline(blocks_df.blockHeight.nunique(), 0, 1, color=\"r\")"
   ]
  },
  {
   "cell_type": "code",
   "execution_count": null,
   "id": "prime-track",
   "metadata": {},
   "outputs": [],
   "source": []
  }
 ],
 "metadata": {
  "kernelspec": {
   "display_name": "Python 3",
   "language": "python",
   "name": "python3"
  },
  "language_info": {
   "codemirror_mode": {
    "name": "ipython",
    "version": 3
   },
   "file_extension": ".py",
   "mimetype": "text/x-python",
   "name": "python",
   "nbconvert_exporter": "python",
   "pygments_lexer": "ipython3",
   "version": "3.8.5"
  }
 },
 "nbformat": 4,
 "nbformat_minor": 5
}
